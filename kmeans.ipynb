{
 "cells": [
  {
   "cell_type": "code",
   "execution_count": 49,
   "id": "7b4bff74",
   "metadata": {},
   "outputs": [],
   "source": [
    "import pandas as pd\n",
    "import matplotlib.pyplot as plt\n",
    "import seaborn as sns\n",
    "import numpy as np\n",
    "from sklearn.cluster import KMeans\n",
    "from sklearn.preprocessing import StandardScaler\n",
    "from sklearn.decomposition import PCA"
   ]
  },
  {
   "cell_type": "code",
   "execution_count": 50,
   "id": "900ae806",
   "metadata": {},
   "outputs": [],
   "source": [
    "df = pd.read_csv('bdclientes.csv')"
   ]
  },
  {
   "cell_type": "code",
   "execution_count": 51,
   "id": "d8a529d4",
   "metadata": {},
   "outputs": [
    {
     "data": {
      "application/vnd.microsoft.datawrangler.viewer.v0+json": {
       "columns": [
        {
         "name": "index",
         "rawType": "int64",
         "type": "integer"
        },
        {
         "name": "IDCLIENTE",
         "rawType": "int64",
         "type": "integer"
        },
        {
         "name": "Genero",
         "rawType": "object",
         "type": "string"
        },
        {
         "name": "Tiene_auto",
         "rawType": "float64",
         "type": "float"
        },
        {
         "name": "Tiene_propiedad",
         "rawType": "float64",
         "type": "float"
        },
        {
         "name": "Num_hijos",
         "rawType": "float64",
         "type": "float"
        },
        {
         "name": "Ingreso_anual",
         "rawType": "float64",
         "type": "float"
        },
        {
         "name": "Categoria_ingresos",
         "rawType": "object",
         "type": "string"
        },
        {
         "name": "Estudios",
         "rawType": "object",
         "type": "string"
        },
        {
         "name": "Estado_civil",
         "rawType": "object",
         "type": "string"
        }
       ],
       "ref": "da255e69-e101-4d4b-8d9b-338024abbece",
       "rows": [
        [
         "0",
         "5008804",
         "M",
         "1.0",
         "1.0",
         "0.0",
         "427500.0",
         "Working",
         "Higher education",
         "Civil marriage"
        ],
        [
         "1",
         "5008805",
         "M",
         "1.0",
         "1.0",
         "0.0",
         "427500.0",
         "Working",
         "Higher education",
         "Civil marriage"
        ],
        [
         "2",
         "5008806",
         "M",
         "1.0",
         "1.0",
         "0.0",
         "112500.0",
         "Working",
         "Secondary / secondary special",
         "Married"
        ],
        [
         "3",
         "5008808",
         "F",
         "0.0",
         "1.0",
         "0.0",
         "270000.0",
         "Commercial associate",
         "Secondary / secondary special",
         "Single / not married"
        ],
        [
         "4",
         "5008809",
         "F",
         "0.0",
         "1.0",
         "0.0",
         "270000.0",
         "Commercial associate",
         "Secondary / secondary special",
         "Single / not married"
        ]
       ],
       "shape": {
        "columns": 9,
        "rows": 5
       }
      },
      "text/html": [
       "<div>\n",
       "<style scoped>\n",
       "    .dataframe tbody tr th:only-of-type {\n",
       "        vertical-align: middle;\n",
       "    }\n",
       "\n",
       "    .dataframe tbody tr th {\n",
       "        vertical-align: top;\n",
       "    }\n",
       "\n",
       "    .dataframe thead th {\n",
       "        text-align: right;\n",
       "    }\n",
       "</style>\n",
       "<table border=\"1\" class=\"dataframe\">\n",
       "  <thead>\n",
       "    <tr style=\"text-align: right;\">\n",
       "      <th></th>\n",
       "      <th>IDCLIENTE</th>\n",
       "      <th>Genero</th>\n",
       "      <th>Tiene_auto</th>\n",
       "      <th>Tiene_propiedad</th>\n",
       "      <th>Num_hijos</th>\n",
       "      <th>Ingreso_anual</th>\n",
       "      <th>Categoria_ingresos</th>\n",
       "      <th>Estudios</th>\n",
       "      <th>Estado_civil</th>\n",
       "    </tr>\n",
       "  </thead>\n",
       "  <tbody>\n",
       "    <tr>\n",
       "      <th>0</th>\n",
       "      <td>5008804</td>\n",
       "      <td>M</td>\n",
       "      <td>1.0</td>\n",
       "      <td>1.0</td>\n",
       "      <td>0.0</td>\n",
       "      <td>427500.0</td>\n",
       "      <td>Working</td>\n",
       "      <td>Higher education</td>\n",
       "      <td>Civil marriage</td>\n",
       "    </tr>\n",
       "    <tr>\n",
       "      <th>1</th>\n",
       "      <td>5008805</td>\n",
       "      <td>M</td>\n",
       "      <td>1.0</td>\n",
       "      <td>1.0</td>\n",
       "      <td>0.0</td>\n",
       "      <td>427500.0</td>\n",
       "      <td>Working</td>\n",
       "      <td>Higher education</td>\n",
       "      <td>Civil marriage</td>\n",
       "    </tr>\n",
       "    <tr>\n",
       "      <th>2</th>\n",
       "      <td>5008806</td>\n",
       "      <td>M</td>\n",
       "      <td>1.0</td>\n",
       "      <td>1.0</td>\n",
       "      <td>0.0</td>\n",
       "      <td>112500.0</td>\n",
       "      <td>Working</td>\n",
       "      <td>Secondary / secondary special</td>\n",
       "      <td>Married</td>\n",
       "    </tr>\n",
       "    <tr>\n",
       "      <th>3</th>\n",
       "      <td>5008808</td>\n",
       "      <td>F</td>\n",
       "      <td>0.0</td>\n",
       "      <td>1.0</td>\n",
       "      <td>0.0</td>\n",
       "      <td>270000.0</td>\n",
       "      <td>Commercial associate</td>\n",
       "      <td>Secondary / secondary special</td>\n",
       "      <td>Single / not married</td>\n",
       "    </tr>\n",
       "    <tr>\n",
       "      <th>4</th>\n",
       "      <td>5008809</td>\n",
       "      <td>F</td>\n",
       "      <td>0.0</td>\n",
       "      <td>1.0</td>\n",
       "      <td>0.0</td>\n",
       "      <td>270000.0</td>\n",
       "      <td>Commercial associate</td>\n",
       "      <td>Secondary / secondary special</td>\n",
       "      <td>Single / not married</td>\n",
       "    </tr>\n",
       "  </tbody>\n",
       "</table>\n",
       "</div>"
      ],
      "text/plain": [
       "   IDCLIENTE Genero  Tiene_auto  Tiene_propiedad  Num_hijos  Ingreso_anual  \\\n",
       "0    5008804      M         1.0              1.0        0.0       427500.0   \n",
       "1    5008805      M         1.0              1.0        0.0       427500.0   \n",
       "2    5008806      M         1.0              1.0        0.0       112500.0   \n",
       "3    5008808      F         0.0              1.0        0.0       270000.0   \n",
       "4    5008809      F         0.0              1.0        0.0       270000.0   \n",
       "\n",
       "     Categoria_ingresos                       Estudios          Estado_civil  \n",
       "0               Working               Higher education        Civil marriage  \n",
       "1               Working               Higher education        Civil marriage  \n",
       "2               Working  Secondary / secondary special               Married  \n",
       "3  Commercial associate  Secondary / secondary special  Single / not married  \n",
       "4  Commercial associate  Secondary / secondary special  Single / not married  "
      ]
     },
     "execution_count": 51,
     "metadata": {},
     "output_type": "execute_result"
    }
   ],
   "source": [
    "df.head()"
   ]
  },
  {
   "cell_type": "code",
   "execution_count": 52,
   "id": "550086c1",
   "metadata": {},
   "outputs": [
    {
     "data": {
      "application/vnd.microsoft.datawrangler.viewer.v0+json": {
       "columns": [
        {
         "name": "index",
         "rawType": "object",
         "type": "string"
        },
        {
         "name": "IDCLIENTE",
         "rawType": "float64",
         "type": "float"
        },
        {
         "name": "Tiene_auto",
         "rawType": "float64",
         "type": "float"
        },
        {
         "name": "Tiene_propiedad",
         "rawType": "float64",
         "type": "float"
        },
        {
         "name": "Num_hijos",
         "rawType": "float64",
         "type": "float"
        },
        {
         "name": "Ingreso_anual",
         "rawType": "float64",
         "type": "float"
        }
       ],
       "ref": "4ae1f579-339f-4f44-8d33-b2c917913c81",
       "rows": [
        [
         "count",
         "340474.0",
         "340473.0",
         "340473.0",
         "340473.0",
         "340473.0"
        ],
        [
         "mean",
         "5824639.883870722",
         "0.3701497622425273",
         "0.6844213784940363",
         "0.4289091939742652",
         "187715.9788550634"
        ],
        [
         "std",
         "452709.1949992499",
         "0.4828453173702985",
         "0.4647465863615728",
         "0.7276626802157748",
         "110600.29598479853"
        ],
        [
         "min",
         "6.0",
         "0.0",
         "0.0",
         "0.0",
         "26100.0"
        ],
        [
         "25%",
         "5440938.25",
         "0.0",
         "0.0",
         "0.0",
         "121500.0"
        ],
        [
         "50%",
         "5883295.5",
         "0.0",
         "1.0",
         "0.0",
         "162000.0"
        ],
        [
         "75%",
         "6144395.75",
         "1.0",
         "1.0",
         "1.0",
         "225000.0"
        ],
        [
         "max",
         "6841875.0",
         "1.0",
         "1.0",
         "19.0",
         "6750000.0"
        ]
       ],
       "shape": {
        "columns": 5,
        "rows": 8
       }
      },
      "text/html": [
       "<div>\n",
       "<style scoped>\n",
       "    .dataframe tbody tr th:only-of-type {\n",
       "        vertical-align: middle;\n",
       "    }\n",
       "\n",
       "    .dataframe tbody tr th {\n",
       "        vertical-align: top;\n",
       "    }\n",
       "\n",
       "    .dataframe thead th {\n",
       "        text-align: right;\n",
       "    }\n",
       "</style>\n",
       "<table border=\"1\" class=\"dataframe\">\n",
       "  <thead>\n",
       "    <tr style=\"text-align: right;\">\n",
       "      <th></th>\n",
       "      <th>IDCLIENTE</th>\n",
       "      <th>Tiene_auto</th>\n",
       "      <th>Tiene_propiedad</th>\n",
       "      <th>Num_hijos</th>\n",
       "      <th>Ingreso_anual</th>\n",
       "    </tr>\n",
       "  </thead>\n",
       "  <tbody>\n",
       "    <tr>\n",
       "      <th>count</th>\n",
       "      <td>3.404740e+05</td>\n",
       "      <td>340473.000000</td>\n",
       "      <td>340473.000000</td>\n",
       "      <td>340473.000000</td>\n",
       "      <td>3.404730e+05</td>\n",
       "    </tr>\n",
       "    <tr>\n",
       "      <th>mean</th>\n",
       "      <td>5.824640e+06</td>\n",
       "      <td>0.370150</td>\n",
       "      <td>0.684421</td>\n",
       "      <td>0.428909</td>\n",
       "      <td>1.877160e+05</td>\n",
       "    </tr>\n",
       "    <tr>\n",
       "      <th>std</th>\n",
       "      <td>4.527092e+05</td>\n",
       "      <td>0.482845</td>\n",
       "      <td>0.464747</td>\n",
       "      <td>0.727663</td>\n",
       "      <td>1.106003e+05</td>\n",
       "    </tr>\n",
       "    <tr>\n",
       "      <th>min</th>\n",
       "      <td>6.000000e+00</td>\n",
       "      <td>0.000000</td>\n",
       "      <td>0.000000</td>\n",
       "      <td>0.000000</td>\n",
       "      <td>2.610000e+04</td>\n",
       "    </tr>\n",
       "    <tr>\n",
       "      <th>25%</th>\n",
       "      <td>5.440938e+06</td>\n",
       "      <td>0.000000</td>\n",
       "      <td>0.000000</td>\n",
       "      <td>0.000000</td>\n",
       "      <td>1.215000e+05</td>\n",
       "    </tr>\n",
       "    <tr>\n",
       "      <th>50%</th>\n",
       "      <td>5.883296e+06</td>\n",
       "      <td>0.000000</td>\n",
       "      <td>1.000000</td>\n",
       "      <td>0.000000</td>\n",
       "      <td>1.620000e+05</td>\n",
       "    </tr>\n",
       "    <tr>\n",
       "      <th>75%</th>\n",
       "      <td>6.144396e+06</td>\n",
       "      <td>1.000000</td>\n",
       "      <td>1.000000</td>\n",
       "      <td>1.000000</td>\n",
       "      <td>2.250000e+05</td>\n",
       "    </tr>\n",
       "    <tr>\n",
       "      <th>max</th>\n",
       "      <td>6.841875e+06</td>\n",
       "      <td>1.000000</td>\n",
       "      <td>1.000000</td>\n",
       "      <td>19.000000</td>\n",
       "      <td>6.750000e+06</td>\n",
       "    </tr>\n",
       "  </tbody>\n",
       "</table>\n",
       "</div>"
      ],
      "text/plain": [
       "          IDCLIENTE     Tiene_auto  Tiene_propiedad      Num_hijos  \\\n",
       "count  3.404740e+05  340473.000000    340473.000000  340473.000000   \n",
       "mean   5.824640e+06       0.370150         0.684421       0.428909   \n",
       "std    4.527092e+05       0.482845         0.464747       0.727663   \n",
       "min    6.000000e+00       0.000000         0.000000       0.000000   \n",
       "25%    5.440938e+06       0.000000         0.000000       0.000000   \n",
       "50%    5.883296e+06       0.000000         1.000000       0.000000   \n",
       "75%    6.144396e+06       1.000000         1.000000       1.000000   \n",
       "max    6.841875e+06       1.000000         1.000000      19.000000   \n",
       "\n",
       "       Ingreso_anual  \n",
       "count   3.404730e+05  \n",
       "mean    1.877160e+05  \n",
       "std     1.106003e+05  \n",
       "min     2.610000e+04  \n",
       "25%     1.215000e+05  \n",
       "50%     1.620000e+05  \n",
       "75%     2.250000e+05  \n",
       "max     6.750000e+06  "
      ]
     },
     "execution_count": 52,
     "metadata": {},
     "output_type": "execute_result"
    }
   ],
   "source": [
    "df.describe()"
   ]
  },
  {
   "cell_type": "code",
   "execution_count": 53,
   "id": "940840dc",
   "metadata": {},
   "outputs": [
    {
     "data": {
      "application/vnd.microsoft.datawrangler.viewer.v0+json": {
       "columns": [
        {
         "name": "Categoria_ingresos",
         "rawType": "object",
         "type": "string"
        },
        {
         "name": "count",
         "rawType": "int64",
         "type": "integer"
        }
       ],
       "ref": "499821ca-8647-46af-88d3-9e12d2b82d96",
       "rows": [
        [
         "Working",
         "175434"
        ],
        [
         "Commercial associate",
         "78517"
        ],
        [
         "Pensioner",
         "58185"
        ],
        [
         "State servant",
         "28320"
        ],
        [
         "Student",
         "17"
        ]
       ],
       "shape": {
        "columns": 1,
        "rows": 5
       }
      },
      "text/plain": [
       "Categoria_ingresos\n",
       "Working                 175434\n",
       "Commercial associate     78517\n",
       "Pensioner                58185\n",
       "State servant            28320\n",
       "Student                     17\n",
       "Name: count, dtype: int64"
      ]
     },
     "execution_count": 53,
     "metadata": {},
     "output_type": "execute_result"
    }
   ],
   "source": [
    "df['Categoria_ingresos'].value_counts()"
   ]
  },
  {
   "cell_type": "code",
   "execution_count": 54,
   "id": "6dc548c0",
   "metadata": {},
   "outputs": [
    {
     "data": {
      "application/vnd.microsoft.datawrangler.viewer.v0+json": {
       "columns": [
        {
         "name": "Estudios",
         "rawType": "object",
         "type": "string"
        },
        {
         "name": "count",
         "rawType": "int64",
         "type": "integer"
        }
       ],
       "ref": "94c427a4-f89a-4d99-953b-2649139a548d",
       "rows": [
        [
         "Secondary / secondary special",
         "233936"
        ],
        [
         "Higher education",
         "91706"
        ],
        [
         "Incomplete higher",
         "11420"
        ],
        [
         "Lower secondary",
         "3179"
        ],
        [
         "Academic degree",
         "232"
        ]
       ],
       "shape": {
        "columns": 1,
        "rows": 5
       }
      },
      "text/plain": [
       "Estudios\n",
       "Secondary / secondary special    233936\n",
       "Higher education                  91706\n",
       "Incomplete higher                 11420\n",
       "Lower secondary                    3179\n",
       "Academic degree                     232\n",
       "Name: count, dtype: int64"
      ]
     },
     "execution_count": 54,
     "metadata": {},
     "output_type": "execute_result"
    }
   ],
   "source": [
    "df['Estudios'].value_counts()"
   ]
  },
  {
   "cell_type": "code",
   "execution_count": 55,
   "id": "8d225432",
   "metadata": {},
   "outputs": [
    {
     "data": {
      "application/vnd.microsoft.datawrangler.viewer.v0+json": {
       "columns": [
        {
         "name": "Estado_civil",
         "rawType": "object",
         "type": "string"
        },
        {
         "name": "count",
         "rawType": "int64",
         "type": "integer"
        }
       ],
       "ref": "85bba8f3-19c4-4c1a-a912-0179607a87bd",
       "rows": [
        [
         "Married",
         "232922"
        ],
        [
         "Single / not married",
         "42730"
        ],
        [
         "Civil marriage",
         "28671"
        ],
        [
         "Separated",
         "20973"
        ],
        [
         "Widow",
         "15177"
        ]
       ],
       "shape": {
        "columns": 1,
        "rows": 5
       }
      },
      "text/plain": [
       "Estado_civil\n",
       "Married                 232922\n",
       "Single / not married     42730\n",
       "Civil marriage           28671\n",
       "Separated                20973\n",
       "Widow                    15177\n",
       "Name: count, dtype: int64"
      ]
     },
     "execution_count": 55,
     "metadata": {},
     "output_type": "execute_result"
    }
   ],
   "source": [
    "df['Estado_civil'].value_counts()"
   ]
  },
  {
   "cell_type": "code",
   "execution_count": 56,
   "id": "6f4739c5",
   "metadata": {},
   "outputs": [],
   "source": [
    "df.Estado_civil = df.Estado_civil.replace({'Civil marriage' : 'Married'})\n",
    "# Se combinaron ambos matrimonios en uno solo"
   ]
  },
  {
   "cell_type": "code",
   "execution_count": 57,
   "id": "4116cb09",
   "metadata": {},
   "outputs": [
    {
     "data": {
      "application/vnd.microsoft.datawrangler.viewer.v0+json": {
       "columns": [
        {
         "name": "Estado_civil",
         "rawType": "object",
         "type": "string"
        },
        {
         "name": "count",
         "rawType": "int64",
         "type": "integer"
        }
       ],
       "ref": "f870b39c-176f-4623-b40f-1a0f517c881d",
       "rows": [
        [
         "Married",
         "261593"
        ],
        [
         "Single / not married",
         "42730"
        ],
        [
         "Separated",
         "20973"
        ],
        [
         "Widow",
         "15177"
        ]
       ],
       "shape": {
        "columns": 1,
        "rows": 4
       }
      },
      "text/plain": [
       "Estado_civil\n",
       "Married                 261593\n",
       "Single / not married     42730\n",
       "Separated                20973\n",
       "Widow                    15177\n",
       "Name: count, dtype: int64"
      ]
     },
     "execution_count": 57,
     "metadata": {},
     "output_type": "execute_result"
    }
   ],
   "source": [
    "df['Estado_civil'].value_counts()"
   ]
  },
  {
   "cell_type": "markdown",
   "id": "d8eed599",
   "metadata": {},
   "source": [
    "# Para efectos del ejercicio, se eliminará la variable Educacion"
   ]
  },
  {
   "cell_type": "code",
   "execution_count": 58,
   "id": "d8253047",
   "metadata": {},
   "outputs": [
    {
     "data": {
      "application/vnd.microsoft.datawrangler.viewer.v0+json": {
       "columns": [
        {
         "name": "Genero",
         "rawType": "object",
         "type": "string"
        },
        {
         "name": "count",
         "rawType": "int64",
         "type": "integer"
        }
       ],
       "ref": "c21f92c7-c1a2-4a31-9a20-64b01c4cdb5f",
       "rows": [
        [
         "F",
         "229350"
        ],
        [
         "M",
         "111123"
        ]
       ],
       "shape": {
        "columns": 1,
        "rows": 2
       }
      },
      "text/plain": [
       "Genero\n",
       "F    229350\n",
       "M    111123\n",
       "Name: count, dtype: int64"
      ]
     },
     "execution_count": 58,
     "metadata": {},
     "output_type": "execute_result"
    }
   ],
   "source": [
    "df = df.drop('Estudios', axis=1) \n",
    "df.Genero.value_counts()\n",
    "# Para efectos del ejercicio, se eliminará la variable Educacion"
   ]
  },
  {
   "cell_type": "code",
   "execution_count": 59,
   "id": "bdc0aa69",
   "metadata": {},
   "outputs": [
    {
     "name": "stderr",
     "output_type": "stream",
     "text": [
      "C:\\Users\\ASUS\\AppData\\Local\\Temp\\ipykernel_16972\\2754055289.py:1: FutureWarning: Downcasting behavior in `replace` is deprecated and will be removed in a future version. To retain the old behavior, explicitly call `result.infer_objects(copy=False)`. To opt-in to the future behavior, set `pd.set_option('future.no_silent_downcasting', True)`\n",
      "  df.Genero = df.Genero.replace({'F' : 0, 'M' : 1})\n"
     ]
    }
   ],
   "source": [
    "df.Genero = df.Genero.replace({'F' : 0, 'M' : 1})"
   ]
  },
  {
   "cell_type": "code",
   "execution_count": 60,
   "id": "7d842b77",
   "metadata": {},
   "outputs": [],
   "source": [
    "df_dummies = pd.get_dummies(df, columns=['Categoria_ingresos', 'Estado_civil'])"
   ]
  },
  {
   "cell_type": "code",
   "execution_count": 61,
   "id": "bd81751e",
   "metadata": {},
   "outputs": [
    {
     "data": {
      "application/vnd.microsoft.datawrangler.viewer.v0+json": {
       "columns": [
        {
         "name": "index",
         "rawType": "int64",
         "type": "integer"
        },
        {
         "name": "IDCLIENTE",
         "rawType": "int64",
         "type": "integer"
        },
        {
         "name": "Genero",
         "rawType": "float64",
         "type": "float"
        },
        {
         "name": "Tiene_auto",
         "rawType": "float64",
         "type": "float"
        },
        {
         "name": "Tiene_propiedad",
         "rawType": "float64",
         "type": "float"
        },
        {
         "name": "Num_hijos",
         "rawType": "float64",
         "type": "float"
        },
        {
         "name": "Ingreso_anual",
         "rawType": "float64",
         "type": "float"
        },
        {
         "name": "Categoria_ingresos_Commercial associate",
         "rawType": "bool",
         "type": "boolean"
        },
        {
         "name": "Categoria_ingresos_Pensioner",
         "rawType": "bool",
         "type": "boolean"
        },
        {
         "name": "Categoria_ingresos_State servant",
         "rawType": "bool",
         "type": "boolean"
        },
        {
         "name": "Categoria_ingresos_Student",
         "rawType": "bool",
         "type": "boolean"
        },
        {
         "name": "Categoria_ingresos_Working",
         "rawType": "bool",
         "type": "boolean"
        },
        {
         "name": "Estado_civil_Married",
         "rawType": "bool",
         "type": "boolean"
        },
        {
         "name": "Estado_civil_Separated",
         "rawType": "bool",
         "type": "boolean"
        },
        {
         "name": "Estado_civil_Single / not married",
         "rawType": "bool",
         "type": "boolean"
        },
        {
         "name": "Estado_civil_Widow",
         "rawType": "bool",
         "type": "boolean"
        }
       ],
       "ref": "57c93038-6a86-4f78-a9e0-088f9263ff97",
       "rows": [
        [
         "0",
         "5008804",
         "1.0",
         "1.0",
         "1.0",
         "0.0",
         "427500.0",
         "False",
         "False",
         "False",
         "False",
         "True",
         "True",
         "False",
         "False",
         "False"
        ],
        [
         "1",
         "5008805",
         "1.0",
         "1.0",
         "1.0",
         "0.0",
         "427500.0",
         "False",
         "False",
         "False",
         "False",
         "True",
         "True",
         "False",
         "False",
         "False"
        ],
        [
         "2",
         "5008806",
         "1.0",
         "1.0",
         "1.0",
         "0.0",
         "112500.0",
         "False",
         "False",
         "False",
         "False",
         "True",
         "True",
         "False",
         "False",
         "False"
        ],
        [
         "3",
         "5008808",
         "0.0",
         "0.0",
         "1.0",
         "0.0",
         "270000.0",
         "True",
         "False",
         "False",
         "False",
         "False",
         "False",
         "False",
         "True",
         "False"
        ],
        [
         "4",
         "5008809",
         "0.0",
         "0.0",
         "1.0",
         "0.0",
         "270000.0",
         "True",
         "False",
         "False",
         "False",
         "False",
         "False",
         "False",
         "True",
         "False"
        ]
       ],
       "shape": {
        "columns": 15,
        "rows": 5
       }
      },
      "text/html": [
       "<div>\n",
       "<style scoped>\n",
       "    .dataframe tbody tr th:only-of-type {\n",
       "        vertical-align: middle;\n",
       "    }\n",
       "\n",
       "    .dataframe tbody tr th {\n",
       "        vertical-align: top;\n",
       "    }\n",
       "\n",
       "    .dataframe thead th {\n",
       "        text-align: right;\n",
       "    }\n",
       "</style>\n",
       "<table border=\"1\" class=\"dataframe\">\n",
       "  <thead>\n",
       "    <tr style=\"text-align: right;\">\n",
       "      <th></th>\n",
       "      <th>IDCLIENTE</th>\n",
       "      <th>Genero</th>\n",
       "      <th>Tiene_auto</th>\n",
       "      <th>Tiene_propiedad</th>\n",
       "      <th>Num_hijos</th>\n",
       "      <th>Ingreso_anual</th>\n",
       "      <th>Categoria_ingresos_Commercial associate</th>\n",
       "      <th>Categoria_ingresos_Pensioner</th>\n",
       "      <th>Categoria_ingresos_State servant</th>\n",
       "      <th>Categoria_ingresos_Student</th>\n",
       "      <th>Categoria_ingresos_Working</th>\n",
       "      <th>Estado_civil_Married</th>\n",
       "      <th>Estado_civil_Separated</th>\n",
       "      <th>Estado_civil_Single / not married</th>\n",
       "      <th>Estado_civil_Widow</th>\n",
       "    </tr>\n",
       "  </thead>\n",
       "  <tbody>\n",
       "    <tr>\n",
       "      <th>0</th>\n",
       "      <td>5008804</td>\n",
       "      <td>1.0</td>\n",
       "      <td>1.0</td>\n",
       "      <td>1.0</td>\n",
       "      <td>0.0</td>\n",
       "      <td>427500.0</td>\n",
       "      <td>False</td>\n",
       "      <td>False</td>\n",
       "      <td>False</td>\n",
       "      <td>False</td>\n",
       "      <td>True</td>\n",
       "      <td>True</td>\n",
       "      <td>False</td>\n",
       "      <td>False</td>\n",
       "      <td>False</td>\n",
       "    </tr>\n",
       "    <tr>\n",
       "      <th>1</th>\n",
       "      <td>5008805</td>\n",
       "      <td>1.0</td>\n",
       "      <td>1.0</td>\n",
       "      <td>1.0</td>\n",
       "      <td>0.0</td>\n",
       "      <td>427500.0</td>\n",
       "      <td>False</td>\n",
       "      <td>False</td>\n",
       "      <td>False</td>\n",
       "      <td>False</td>\n",
       "      <td>True</td>\n",
       "      <td>True</td>\n",
       "      <td>False</td>\n",
       "      <td>False</td>\n",
       "      <td>False</td>\n",
       "    </tr>\n",
       "    <tr>\n",
       "      <th>2</th>\n",
       "      <td>5008806</td>\n",
       "      <td>1.0</td>\n",
       "      <td>1.0</td>\n",
       "      <td>1.0</td>\n",
       "      <td>0.0</td>\n",
       "      <td>112500.0</td>\n",
       "      <td>False</td>\n",
       "      <td>False</td>\n",
       "      <td>False</td>\n",
       "      <td>False</td>\n",
       "      <td>True</td>\n",
       "      <td>True</td>\n",
       "      <td>False</td>\n",
       "      <td>False</td>\n",
       "      <td>False</td>\n",
       "    </tr>\n",
       "    <tr>\n",
       "      <th>3</th>\n",
       "      <td>5008808</td>\n",
       "      <td>0.0</td>\n",
       "      <td>0.0</td>\n",
       "      <td>1.0</td>\n",
       "      <td>0.0</td>\n",
       "      <td>270000.0</td>\n",
       "      <td>True</td>\n",
       "      <td>False</td>\n",
       "      <td>False</td>\n",
       "      <td>False</td>\n",
       "      <td>False</td>\n",
       "      <td>False</td>\n",
       "      <td>False</td>\n",
       "      <td>True</td>\n",
       "      <td>False</td>\n",
       "    </tr>\n",
       "    <tr>\n",
       "      <th>4</th>\n",
       "      <td>5008809</td>\n",
       "      <td>0.0</td>\n",
       "      <td>0.0</td>\n",
       "      <td>1.0</td>\n",
       "      <td>0.0</td>\n",
       "      <td>270000.0</td>\n",
       "      <td>True</td>\n",
       "      <td>False</td>\n",
       "      <td>False</td>\n",
       "      <td>False</td>\n",
       "      <td>False</td>\n",
       "      <td>False</td>\n",
       "      <td>False</td>\n",
       "      <td>True</td>\n",
       "      <td>False</td>\n",
       "    </tr>\n",
       "  </tbody>\n",
       "</table>\n",
       "</div>"
      ],
      "text/plain": [
       "   IDCLIENTE  Genero  Tiene_auto  Tiene_propiedad  Num_hijos  Ingreso_anual  \\\n",
       "0    5008804     1.0         1.0              1.0        0.0       427500.0   \n",
       "1    5008805     1.0         1.0              1.0        0.0       427500.0   \n",
       "2    5008806     1.0         1.0              1.0        0.0       112500.0   \n",
       "3    5008808     0.0         0.0              1.0        0.0       270000.0   \n",
       "4    5008809     0.0         0.0              1.0        0.0       270000.0   \n",
       "\n",
       "   Categoria_ingresos_Commercial associate  Categoria_ingresos_Pensioner  \\\n",
       "0                                    False                         False   \n",
       "1                                    False                         False   \n",
       "2                                    False                         False   \n",
       "3                                     True                         False   \n",
       "4                                     True                         False   \n",
       "\n",
       "   Categoria_ingresos_State servant  Categoria_ingresos_Student  \\\n",
       "0                             False                       False   \n",
       "1                             False                       False   \n",
       "2                             False                       False   \n",
       "3                             False                       False   \n",
       "4                             False                       False   \n",
       "\n",
       "   Categoria_ingresos_Working  Estado_civil_Married  Estado_civil_Separated  \\\n",
       "0                        True                  True                   False   \n",
       "1                        True                  True                   False   \n",
       "2                        True                  True                   False   \n",
       "3                       False                 False                   False   \n",
       "4                       False                 False                   False   \n",
       "\n",
       "   Estado_civil_Single / not married  Estado_civil_Widow  \n",
       "0                              False               False  \n",
       "1                              False               False  \n",
       "2                              False               False  \n",
       "3                               True               False  \n",
       "4                               True               False  "
      ]
     },
     "execution_count": 61,
     "metadata": {},
     "output_type": "execute_result"
    }
   ],
   "source": [
    "df_dummies.head()"
   ]
  },
  {
   "cell_type": "code",
   "execution_count": 62,
   "id": "2868f1a8",
   "metadata": {},
   "outputs": [],
   "source": [
    "df_dummies =df_dummies.drop('IDCLIENTE', axis=1)"
   ]
  },
  {
   "cell_type": "code",
   "execution_count": 63,
   "id": "8ec89a3a",
   "metadata": {},
   "outputs": [
    {
     "data": {
      "application/vnd.microsoft.datawrangler.viewer.v0+json": {
       "columns": [
        {
         "name": "index",
         "rawType": "int64",
         "type": "integer"
        },
        {
         "name": "Genero",
         "rawType": "float64",
         "type": "float"
        },
        {
         "name": "Tiene_auto",
         "rawType": "float64",
         "type": "float"
        },
        {
         "name": "Tiene_propiedad",
         "rawType": "float64",
         "type": "float"
        },
        {
         "name": "Num_hijos",
         "rawType": "float64",
         "type": "float"
        },
        {
         "name": "Ingreso_anual",
         "rawType": "float64",
         "type": "float"
        },
        {
         "name": "Categoria_ingresos_Commercial associate",
         "rawType": "bool",
         "type": "boolean"
        },
        {
         "name": "Categoria_ingresos_Pensioner",
         "rawType": "bool",
         "type": "boolean"
        },
        {
         "name": "Categoria_ingresos_State servant",
         "rawType": "bool",
         "type": "boolean"
        },
        {
         "name": "Categoria_ingresos_Student",
         "rawType": "bool",
         "type": "boolean"
        },
        {
         "name": "Categoria_ingresos_Working",
         "rawType": "bool",
         "type": "boolean"
        },
        {
         "name": "Estado_civil_Married",
         "rawType": "bool",
         "type": "boolean"
        },
        {
         "name": "Estado_civil_Separated",
         "rawType": "bool",
         "type": "boolean"
        },
        {
         "name": "Estado_civil_Single / not married",
         "rawType": "bool",
         "type": "boolean"
        },
        {
         "name": "Estado_civil_Widow",
         "rawType": "bool",
         "type": "boolean"
        }
       ],
       "ref": "8c2be595-e786-4a89-a53d-d53f255321b9",
       "rows": [
        [
         "0",
         "1.0",
         "1.0",
         "1.0",
         "0.0",
         "427500.0",
         "False",
         "False",
         "False",
         "False",
         "True",
         "True",
         "False",
         "False",
         "False"
        ],
        [
         "1",
         "1.0",
         "1.0",
         "1.0",
         "0.0",
         "427500.0",
         "False",
         "False",
         "False",
         "False",
         "True",
         "True",
         "False",
         "False",
         "False"
        ],
        [
         "2",
         "1.0",
         "1.0",
         "1.0",
         "0.0",
         "112500.0",
         "False",
         "False",
         "False",
         "False",
         "True",
         "True",
         "False",
         "False",
         "False"
        ],
        [
         "3",
         "0.0",
         "0.0",
         "1.0",
         "0.0",
         "270000.0",
         "True",
         "False",
         "False",
         "False",
         "False",
         "False",
         "False",
         "True",
         "False"
        ],
        [
         "4",
         "0.0",
         "0.0",
         "1.0",
         "0.0",
         "270000.0",
         "True",
         "False",
         "False",
         "False",
         "False",
         "False",
         "False",
         "True",
         "False"
        ]
       ],
       "shape": {
        "columns": 14,
        "rows": 5
       }
      },
      "text/html": [
       "<div>\n",
       "<style scoped>\n",
       "    .dataframe tbody tr th:only-of-type {\n",
       "        vertical-align: middle;\n",
       "    }\n",
       "\n",
       "    .dataframe tbody tr th {\n",
       "        vertical-align: top;\n",
       "    }\n",
       "\n",
       "    .dataframe thead th {\n",
       "        text-align: right;\n",
       "    }\n",
       "</style>\n",
       "<table border=\"1\" class=\"dataframe\">\n",
       "  <thead>\n",
       "    <tr style=\"text-align: right;\">\n",
       "      <th></th>\n",
       "      <th>Genero</th>\n",
       "      <th>Tiene_auto</th>\n",
       "      <th>Tiene_propiedad</th>\n",
       "      <th>Num_hijos</th>\n",
       "      <th>Ingreso_anual</th>\n",
       "      <th>Categoria_ingresos_Commercial associate</th>\n",
       "      <th>Categoria_ingresos_Pensioner</th>\n",
       "      <th>Categoria_ingresos_State servant</th>\n",
       "      <th>Categoria_ingresos_Student</th>\n",
       "      <th>Categoria_ingresos_Working</th>\n",
       "      <th>Estado_civil_Married</th>\n",
       "      <th>Estado_civil_Separated</th>\n",
       "      <th>Estado_civil_Single / not married</th>\n",
       "      <th>Estado_civil_Widow</th>\n",
       "    </tr>\n",
       "  </thead>\n",
       "  <tbody>\n",
       "    <tr>\n",
       "      <th>0</th>\n",
       "      <td>1.0</td>\n",
       "      <td>1.0</td>\n",
       "      <td>1.0</td>\n",
       "      <td>0.0</td>\n",
       "      <td>427500.0</td>\n",
       "      <td>False</td>\n",
       "      <td>False</td>\n",
       "      <td>False</td>\n",
       "      <td>False</td>\n",
       "      <td>True</td>\n",
       "      <td>True</td>\n",
       "      <td>False</td>\n",
       "      <td>False</td>\n",
       "      <td>False</td>\n",
       "    </tr>\n",
       "    <tr>\n",
       "      <th>1</th>\n",
       "      <td>1.0</td>\n",
       "      <td>1.0</td>\n",
       "      <td>1.0</td>\n",
       "      <td>0.0</td>\n",
       "      <td>427500.0</td>\n",
       "      <td>False</td>\n",
       "      <td>False</td>\n",
       "      <td>False</td>\n",
       "      <td>False</td>\n",
       "      <td>True</td>\n",
       "      <td>True</td>\n",
       "      <td>False</td>\n",
       "      <td>False</td>\n",
       "      <td>False</td>\n",
       "    </tr>\n",
       "    <tr>\n",
       "      <th>2</th>\n",
       "      <td>1.0</td>\n",
       "      <td>1.0</td>\n",
       "      <td>1.0</td>\n",
       "      <td>0.0</td>\n",
       "      <td>112500.0</td>\n",
       "      <td>False</td>\n",
       "      <td>False</td>\n",
       "      <td>False</td>\n",
       "      <td>False</td>\n",
       "      <td>True</td>\n",
       "      <td>True</td>\n",
       "      <td>False</td>\n",
       "      <td>False</td>\n",
       "      <td>False</td>\n",
       "    </tr>\n",
       "    <tr>\n",
       "      <th>3</th>\n",
       "      <td>0.0</td>\n",
       "      <td>0.0</td>\n",
       "      <td>1.0</td>\n",
       "      <td>0.0</td>\n",
       "      <td>270000.0</td>\n",
       "      <td>True</td>\n",
       "      <td>False</td>\n",
       "      <td>False</td>\n",
       "      <td>False</td>\n",
       "      <td>False</td>\n",
       "      <td>False</td>\n",
       "      <td>False</td>\n",
       "      <td>True</td>\n",
       "      <td>False</td>\n",
       "    </tr>\n",
       "    <tr>\n",
       "      <th>4</th>\n",
       "      <td>0.0</td>\n",
       "      <td>0.0</td>\n",
       "      <td>1.0</td>\n",
       "      <td>0.0</td>\n",
       "      <td>270000.0</td>\n",
       "      <td>True</td>\n",
       "      <td>False</td>\n",
       "      <td>False</td>\n",
       "      <td>False</td>\n",
       "      <td>False</td>\n",
       "      <td>False</td>\n",
       "      <td>False</td>\n",
       "      <td>True</td>\n",
       "      <td>False</td>\n",
       "    </tr>\n",
       "  </tbody>\n",
       "</table>\n",
       "</div>"
      ],
      "text/plain": [
       "   Genero  Tiene_auto  Tiene_propiedad  Num_hijos  Ingreso_anual  \\\n",
       "0     1.0         1.0              1.0        0.0       427500.0   \n",
       "1     1.0         1.0              1.0        0.0       427500.0   \n",
       "2     1.0         1.0              1.0        0.0       112500.0   \n",
       "3     0.0         0.0              1.0        0.0       270000.0   \n",
       "4     0.0         0.0              1.0        0.0       270000.0   \n",
       "\n",
       "   Categoria_ingresos_Commercial associate  Categoria_ingresos_Pensioner  \\\n",
       "0                                    False                         False   \n",
       "1                                    False                         False   \n",
       "2                                    False                         False   \n",
       "3                                     True                         False   \n",
       "4                                     True                         False   \n",
       "\n",
       "   Categoria_ingresos_State servant  Categoria_ingresos_Student  \\\n",
       "0                             False                       False   \n",
       "1                             False                       False   \n",
       "2                             False                       False   \n",
       "3                             False                       False   \n",
       "4                             False                       False   \n",
       "\n",
       "   Categoria_ingresos_Working  Estado_civil_Married  Estado_civil_Separated  \\\n",
       "0                        True                  True                   False   \n",
       "1                        True                  True                   False   \n",
       "2                        True                  True                   False   \n",
       "3                       False                 False                   False   \n",
       "4                       False                 False                   False   \n",
       "\n",
       "   Estado_civil_Single / not married  Estado_civil_Widow  \n",
       "0                              False               False  \n",
       "1                              False               False  \n",
       "2                              False               False  \n",
       "3                               True               False  \n",
       "4                               True               False  "
      ]
     },
     "execution_count": 63,
     "metadata": {},
     "output_type": "execute_result"
    }
   ],
   "source": [
    "df_dummies.head()"
   ]
  },
  {
   "cell_type": "code",
   "execution_count": 64,
   "id": "72ec4339",
   "metadata": {},
   "outputs": [
    {
     "name": "stderr",
     "output_type": "stream",
     "text": [
      "C:\\Users\\ASUS\\AppData\\Local\\Temp\\ipykernel_16972\\1511691689.py:1: FutureWarning: Downcasting behavior in `replace` is deprecated and will be removed in a future version. To retain the old behavior, explicitly call `result.infer_objects(copy=False)`. To opt-in to the future behavior, set `pd.set_option('future.no_silent_downcasting', True)`\n",
      "  df_dummies = df_dummies.replace({True: 1, False: 0})\n"
     ]
    }
   ],
   "source": [
    "df_dummies = df_dummies.replace({True: 1, False: 0})\n",
    "# Convertir booleanos a 0 y 1"
   ]
  },
  {
   "cell_type": "code",
   "execution_count": 65,
   "id": "f93b9da5",
   "metadata": {},
   "outputs": [
    {
     "data": {
      "application/vnd.microsoft.datawrangler.viewer.v0+json": {
       "columns": [
        {
         "name": "index",
         "rawType": "int64",
         "type": "integer"
        },
        {
         "name": "Genero",
         "rawType": "float64",
         "type": "float"
        },
        {
         "name": "Tiene_auto",
         "rawType": "float64",
         "type": "float"
        },
        {
         "name": "Tiene_propiedad",
         "rawType": "float64",
         "type": "float"
        },
        {
         "name": "Num_hijos",
         "rawType": "float64",
         "type": "float"
        },
        {
         "name": "Ingreso_anual",
         "rawType": "float64",
         "type": "float"
        },
        {
         "name": "Categoria_ingresos_Commercial associate",
         "rawType": "int64",
         "type": "integer"
        },
        {
         "name": "Categoria_ingresos_Pensioner",
         "rawType": "int64",
         "type": "integer"
        },
        {
         "name": "Categoria_ingresos_State servant",
         "rawType": "int64",
         "type": "integer"
        },
        {
         "name": "Categoria_ingresos_Student",
         "rawType": "int64",
         "type": "integer"
        },
        {
         "name": "Categoria_ingresos_Working",
         "rawType": "int64",
         "type": "integer"
        },
        {
         "name": "Estado_civil_Married",
         "rawType": "int64",
         "type": "integer"
        },
        {
         "name": "Estado_civil_Separated",
         "rawType": "int64",
         "type": "integer"
        },
        {
         "name": "Estado_civil_Single / not married",
         "rawType": "int64",
         "type": "integer"
        },
        {
         "name": "Estado_civil_Widow",
         "rawType": "int64",
         "type": "integer"
        }
       ],
       "ref": "6e54d7cc-cb2b-4af7-8d46-6379e720dbff",
       "rows": [
        [
         "0",
         "1.0",
         "1.0",
         "1.0",
         "0.0",
         "427500.0",
         "0",
         "0",
         "0",
         "0",
         "1",
         "1",
         "0",
         "0",
         "0"
        ],
        [
         "1",
         "1.0",
         "1.0",
         "1.0",
         "0.0",
         "427500.0",
         "0",
         "0",
         "0",
         "0",
         "1",
         "1",
         "0",
         "0",
         "0"
        ],
        [
         "2",
         "1.0",
         "1.0",
         "1.0",
         "0.0",
         "112500.0",
         "0",
         "0",
         "0",
         "0",
         "1",
         "1",
         "0",
         "0",
         "0"
        ],
        [
         "3",
         "0.0",
         "0.0",
         "1.0",
         "0.0",
         "270000.0",
         "1",
         "0",
         "0",
         "0",
         "0",
         "0",
         "0",
         "1",
         "0"
        ],
        [
         "4",
         "0.0",
         "0.0",
         "1.0",
         "0.0",
         "270000.0",
         "1",
         "0",
         "0",
         "0",
         "0",
         "0",
         "0",
         "1",
         "0"
        ]
       ],
       "shape": {
        "columns": 14,
        "rows": 5
       }
      },
      "text/html": [
       "<div>\n",
       "<style scoped>\n",
       "    .dataframe tbody tr th:only-of-type {\n",
       "        vertical-align: middle;\n",
       "    }\n",
       "\n",
       "    .dataframe tbody tr th {\n",
       "        vertical-align: top;\n",
       "    }\n",
       "\n",
       "    .dataframe thead th {\n",
       "        text-align: right;\n",
       "    }\n",
       "</style>\n",
       "<table border=\"1\" class=\"dataframe\">\n",
       "  <thead>\n",
       "    <tr style=\"text-align: right;\">\n",
       "      <th></th>\n",
       "      <th>Genero</th>\n",
       "      <th>Tiene_auto</th>\n",
       "      <th>Tiene_propiedad</th>\n",
       "      <th>Num_hijos</th>\n",
       "      <th>Ingreso_anual</th>\n",
       "      <th>Categoria_ingresos_Commercial associate</th>\n",
       "      <th>Categoria_ingresos_Pensioner</th>\n",
       "      <th>Categoria_ingresos_State servant</th>\n",
       "      <th>Categoria_ingresos_Student</th>\n",
       "      <th>Categoria_ingresos_Working</th>\n",
       "      <th>Estado_civil_Married</th>\n",
       "      <th>Estado_civil_Separated</th>\n",
       "      <th>Estado_civil_Single / not married</th>\n",
       "      <th>Estado_civil_Widow</th>\n",
       "    </tr>\n",
       "  </thead>\n",
       "  <tbody>\n",
       "    <tr>\n",
       "      <th>0</th>\n",
       "      <td>1.0</td>\n",
       "      <td>1.0</td>\n",
       "      <td>1.0</td>\n",
       "      <td>0.0</td>\n",
       "      <td>427500.0</td>\n",
       "      <td>0</td>\n",
       "      <td>0</td>\n",
       "      <td>0</td>\n",
       "      <td>0</td>\n",
       "      <td>1</td>\n",
       "      <td>1</td>\n",
       "      <td>0</td>\n",
       "      <td>0</td>\n",
       "      <td>0</td>\n",
       "    </tr>\n",
       "    <tr>\n",
       "      <th>1</th>\n",
       "      <td>1.0</td>\n",
       "      <td>1.0</td>\n",
       "      <td>1.0</td>\n",
       "      <td>0.0</td>\n",
       "      <td>427500.0</td>\n",
       "      <td>0</td>\n",
       "      <td>0</td>\n",
       "      <td>0</td>\n",
       "      <td>0</td>\n",
       "      <td>1</td>\n",
       "      <td>1</td>\n",
       "      <td>0</td>\n",
       "      <td>0</td>\n",
       "      <td>0</td>\n",
       "    </tr>\n",
       "    <tr>\n",
       "      <th>2</th>\n",
       "      <td>1.0</td>\n",
       "      <td>1.0</td>\n",
       "      <td>1.0</td>\n",
       "      <td>0.0</td>\n",
       "      <td>112500.0</td>\n",
       "      <td>0</td>\n",
       "      <td>0</td>\n",
       "      <td>0</td>\n",
       "      <td>0</td>\n",
       "      <td>1</td>\n",
       "      <td>1</td>\n",
       "      <td>0</td>\n",
       "      <td>0</td>\n",
       "      <td>0</td>\n",
       "    </tr>\n",
       "    <tr>\n",
       "      <th>3</th>\n",
       "      <td>0.0</td>\n",
       "      <td>0.0</td>\n",
       "      <td>1.0</td>\n",
       "      <td>0.0</td>\n",
       "      <td>270000.0</td>\n",
       "      <td>1</td>\n",
       "      <td>0</td>\n",
       "      <td>0</td>\n",
       "      <td>0</td>\n",
       "      <td>0</td>\n",
       "      <td>0</td>\n",
       "      <td>0</td>\n",
       "      <td>1</td>\n",
       "      <td>0</td>\n",
       "    </tr>\n",
       "    <tr>\n",
       "      <th>4</th>\n",
       "      <td>0.0</td>\n",
       "      <td>0.0</td>\n",
       "      <td>1.0</td>\n",
       "      <td>0.0</td>\n",
       "      <td>270000.0</td>\n",
       "      <td>1</td>\n",
       "      <td>0</td>\n",
       "      <td>0</td>\n",
       "      <td>0</td>\n",
       "      <td>0</td>\n",
       "      <td>0</td>\n",
       "      <td>0</td>\n",
       "      <td>1</td>\n",
       "      <td>0</td>\n",
       "    </tr>\n",
       "  </tbody>\n",
       "</table>\n",
       "</div>"
      ],
      "text/plain": [
       "   Genero  Tiene_auto  Tiene_propiedad  Num_hijos  Ingreso_anual  \\\n",
       "0     1.0         1.0              1.0        0.0       427500.0   \n",
       "1     1.0         1.0              1.0        0.0       427500.0   \n",
       "2     1.0         1.0              1.0        0.0       112500.0   \n",
       "3     0.0         0.0              1.0        0.0       270000.0   \n",
       "4     0.0         0.0              1.0        0.0       270000.0   \n",
       "\n",
       "   Categoria_ingresos_Commercial associate  Categoria_ingresos_Pensioner  \\\n",
       "0                                        0                             0   \n",
       "1                                        0                             0   \n",
       "2                                        0                             0   \n",
       "3                                        1                             0   \n",
       "4                                        1                             0   \n",
       "\n",
       "   Categoria_ingresos_State servant  Categoria_ingresos_Student  \\\n",
       "0                                 0                           0   \n",
       "1                                 0                           0   \n",
       "2                                 0                           0   \n",
       "3                                 0                           0   \n",
       "4                                 0                           0   \n",
       "\n",
       "   Categoria_ingresos_Working  Estado_civil_Married  Estado_civil_Separated  \\\n",
       "0                           1                     1                       0   \n",
       "1                           1                     1                       0   \n",
       "2                           1                     1                       0   \n",
       "3                           0                     0                       0   \n",
       "4                           0                     0                       0   \n",
       "\n",
       "   Estado_civil_Single / not married  Estado_civil_Widow  \n",
       "0                                  0                   0  \n",
       "1                                  0                   0  \n",
       "2                                  0                   0  \n",
       "3                                  1                   0  \n",
       "4                                  1                   0  "
      ]
     },
     "execution_count": 65,
     "metadata": {},
     "output_type": "execute_result"
    }
   ],
   "source": [
    "df_dummies.head()"
   ]
  },
  {
   "cell_type": "markdown",
   "id": "539e752b",
   "metadata": {},
   "source": [
    "# Normalización"
   ]
  },
  {
   "cell_type": "code",
   "execution_count": 66,
   "id": "ba46198a",
   "metadata": {},
   "outputs": [],
   "source": [
    "df_norm = (df_dummies - df_dummies.min()) / (df_dummies.max() - df_dummies.min())\n",
    "# Normalización Min-Max"
   ]
  },
  {
   "cell_type": "markdown",
   "id": "8e06382c",
   "metadata": {},
   "source": [
    "# Metodo del codo"
   ]
  },
  {
   "cell_type": "code",
   "execution_count": 89,
   "id": "e801d8a6",
   "metadata": {},
   "outputs": [],
   "source": [
    "df_norm.dropna(inplace=True)\n",
    "\n",
    "wcs =[]\n",
    "for i in range(1,16):\n",
    "    kmeans = KMeans(n_clusters=i, random_state=0)\n",
    "    kmeans.fit(df_norm)\n",
    "    wcs.append(kmeans.inertia_)\n",
    "    # Metodo del codo"
   ]
  },
  {
   "cell_type": "code",
   "execution_count": 90,
   "id": "809ca413",
   "metadata": {},
   "outputs": [
    {
     "data": {
      "image/png": "[encoded data removed]",
      "text/plain": [
       "<Figure size 640x480 with 1 Axes>"
      ]
     },
     "metadata": {},
     "output_type": "display_data"
    }
   ],
   "source": [
    "plt.grid()\n",
    "plt.plot(range(1,16), wcs, marker='+', color='blue')\n",
    "plt.xlabel('Número de clusters')\n",
    "plt.ylabel('WCSS')\n",
    "plt.title('Método del codo para determinar el número óptimo de clusters')\n",
    "plt.show()"
   ]
  },
  {
   "cell_type": "markdown",
   "id": "50060d55",
   "metadata": {},
   "source": [
    "# Consultar sobre el método de Silueta"
   ]
  },
  {
   "cell_type": "code",
   "execution_count": 91,
   "id": "a38e89cd",
   "metadata": {},
   "outputs": [
    {
     "data": {
      "text/plain": [
       "array([[ 3.08308999e-01,  2.88160340e-01,  6.45341120e-01,\n",
       "         1.46982801e-02,  2.36125690e-02, -2.15383267e-14,\n",
       "         6.07847106e-15, -6.42541576e-15,  1.32731617e-04,\n",
       "         9.99867268e-01, -6.25055563e-14,  2.86620653e-01,\n",
       "         6.07300239e-01,  1.06079108e-01],\n",
       "       [ 3.65436784e-01,  4.28811595e-01,  6.94766738e-01,\n",
       "         2.46510477e-02,  2.92093693e-02,  1.00000000e+00,\n",
       "        -3.78863607e-14,  1.25038868e-14, -1.25564164e-17,\n",
       "        -2.34257058e-14,  7.72304087e-01,  6.51960722e-02,\n",
       "         1.40873951e-01,  2.16258899e-02],\n",
       "       [ 1.51705766e-01,  1.94397181e-01,  7.52393228e-01,\n",
       "         2.05876899e-03,  1.88772064e-02, -3.05311332e-14,\n",
       "         1.00000000e+00,  7.77156117e-16, -7.60974400e-18,\n",
       "         5.65103520e-14,  6.91295007e-01,  6.31262353e-02,\n",
       "         9.72415571e-02,  1.48337200e-01],\n",
       "       [ 7.32068400e-01,  8.07698915e-01,  8.21878660e-01,\n",
       "         3.40611425e-02,  2.60900768e-02, -3.20576898e-14,\n",
       "        -2.22877272e-14,  4.89885910e-15,  1.56164597e-05,\n",
       "         9.99984384e-01,  9.97969860e-01, -7.04991621e-15,\n",
       "         9.18709553e-15,  2.03013977e-03],\n",
       "       [ 9.62764082e-02,  1.04737884e-01,  5.36313834e-01,\n",
       "         2.84354406e-02,  2.03073350e-02, -3.39728246e-14,\n",
       "        -3.34177130e-14,  1.03389519e-14,  1.49160632e-04,\n",
       "         9.99850839e-01,  1.00000000e+00, -8.59728955e-15,\n",
       "         9.40914013e-15, -8.45157277e-15],\n",
       "       [ 2.82874294e-01,  3.79449153e-01,  6.42937853e-01,\n",
       "         2.82058430e-02,  2.59207126e-02, -1.31561428e-14,\n",
       "         5.85642645e-15,  1.00000000e+00,  9.62229428e-19,\n",
       "         2.99760217e-14,  8.14971751e-01,  4.88700565e-02,\n",
       "         1.10663842e-01,  2.54943503e-02]])"
      ]
     },
     "execution_count": 91,
     "metadata": {},
     "output_type": "execute_result"
    }
   ],
   "source": [
    "clustering = KMeans(n_clusters=6, max_iter=300, random_state=0)\n",
    "clustering.fit(df_norm)\n",
    "center = clustering.cluster_centers_\n",
    "center"
   ]
  },
  {
   "cell_type": "markdown",
   "id": "31d860c6",
   "metadata": {},
   "source": [
    "# Función para desnormalizar"
   ]
  },
  {
   "cell_type": "code",
   "execution_count": 95,
   "id": "f21a0f44",
   "metadata": {},
   "outputs": [],
   "source": [
    "def desnormalizar(df, columns_name_list,num_clusters):\n",
    "\n",
    "    data_desnorm = [[] for _ in range(num_clusters)]\n",
    "\n",
    "    for i in range(num_clusters):\n",
    "        for j in range(len(columns_name_list)):\n",
    "                data_desnorm[i].append(df[columns_name_list[j]].min() + center[i][j]*(df[columns_name_list[j]].max() - df[columns_name_list[j]].min()))\n",
    "\n",
    "    return np.asarray(data_desnorm)"
   ]
  },
  {
   "cell_type": "code",
   "execution_count": 96,
   "id": "c334c688",
   "metadata": {},
   "outputs": [
    {
     "data": {
      "text/plain": [
       "array([[ 3.08308999e-01,  2.88160340e-01,  6.45341120e-01,\n",
       "         2.79267321e-01,  1.84868552e+05, -2.15383267e-14,\n",
       "         6.07847106e-15, -6.42541576e-15,  1.32731617e-04,\n",
       "         9.99867268e-01, -6.25055563e-14,  2.86620653e-01,\n",
       "         6.07300239e-01,  1.06079108e-01],\n",
       "       [ 3.65436784e-01,  4.28811595e-01,  6.94766738e-01,\n",
       "         4.68369907e-01,  2.22500878e+05,  1.00000000e+00,\n",
       "        -3.78863607e-14,  1.25038868e-14, -1.25564164e-17,\n",
       "        -2.34257058e-14,  7.72304087e-01,  6.51960722e-02,\n",
       "         1.40873951e-01,  2.16258899e-02],\n",
       "       [ 1.51705766e-01,  1.94397181e-01,  7.52393228e-01,\n",
       "         3.91166108e-02,  1.53028448e+05, -3.05311332e-14,\n",
       "         1.00000000e+00,  7.77156117e-16, -7.60974400e-18,\n",
       "         5.65103520e-14,  6.91295007e-01,  6.31262353e-02,\n",
       "         9.72415571e-02,  1.48337200e-01],\n",
       "       [ 7.32068400e-01,  8.07698915e-01,  8.21878660e-01,\n",
       "         6.47161708e-01,  2.01527068e+05, -3.20576898e-14,\n",
       "        -2.22877272e-14,  4.89885910e-15,  1.56164597e-05,\n",
       "         9.99984384e-01,  9.97969860e-01, -7.04991621e-15,\n",
       "         9.18709553e-15,  2.03013977e-03],\n",
       "       [ 9.62764082e-02,  1.04737884e-01,  5.36313834e-01,\n",
       "         5.40273371e-01,  1.62644490e+05, -3.39728246e-14,\n",
       "        -3.34177130e-14,  1.03389519e-14,  1.49160632e-04,\n",
       "         9.99850839e-01,  1.00000000e+00, -8.59728955e-15,\n",
       "         9.40914013e-15, -8.45157277e-15],\n",
       "       [ 2.82874294e-01,  3.79449153e-01,  6.42937853e-01,\n",
       "         5.35911017e-01,  2.00388279e+05, -1.31561428e-14,\n",
       "         5.85642645e-15,  1.00000000e+00,  9.62229428e-19,\n",
       "         2.99760217e-14,  8.14971751e-01,  4.88700565e-02,\n",
       "         1.10663842e-01,  2.54943503e-02]])"
      ]
     },
     "execution_count": 96,
     "metadata": {},
     "output_type": "execute_result"
    }
   ],
   "source": [
    "#Cantidad de cluters\n",
    "num_clusters = 6\n",
    "\n",
    "#Nombres de las columnas\n",
    "columns_name = list(df_norm.columns.values)\n",
    "\n",
    "df_desnorm = desnormalizar(df_dummies, columns_name, num_clusters)\n",
    "df_desnorm"
   ]
  },
  {
   "cell_type": "code",
   "execution_count": 98,
   "id": "1038eb8e",
   "metadata": {},
   "outputs": [
    {
     "data": {
      "application/vnd.microsoft.datawrangler.viewer.v0+json": {
       "columns": [
        {
         "name": "index",
         "rawType": "object",
         "type": "string"
        },
        {
         "name": "Cluster_1",
         "rawType": "float64",
         "type": "float"
        },
        {
         "name": "Cluster_2",
         "rawType": "float64",
         "type": "float"
        },
        {
         "name": "Cluster_3",
         "rawType": "float64",
         "type": "float"
        },
        {
         "name": "Cluster_4",
         "rawType": "float64",
         "type": "float"
        },
        {
         "name": "Cluster_5",
         "rawType": "float64",
         "type": "float"
        },
        {
         "name": "Cluster_6",
         "rawType": "float64",
         "type": "float"
        }
       ],
       "ref": "2ec92ea3-11d5-40da-b875-e40c39844ed4",
       "rows": [
        [
         "Genero",
         "0.308",
         "0.365",
         "0.152",
         "0.732",
         "0.096",
         "0.283"
        ],
        [
         "Tiene_auto",
         "0.288",
         "0.429",
         "0.194",
         "0.808",
         "0.105",
         "0.379"
        ],
        [
         "Tiene_propiedad",
         "0.645",
         "0.695",
         "0.752",
         "0.822",
         "0.536",
         "0.643"
        ],
        [
         "Num_hijos",
         "0.279",
         "0.468",
         "0.039",
         "0.647",
         "0.54",
         "0.536"
        ],
        [
         "Ingreso_anual",
         "184868.552",
         "222500.878",
         "153028.448",
         "201527.068",
         "162644.49",
         "200388.279"
        ],
        [
         "Categoria_ingresos_Commercial associate",
         "0.0",
         "1.0",
         "0.0",
         "0.0",
         "0.0",
         "0.0"
        ],
        [
         "Categoria_ingresos_Pensioner",
         "0.0",
         "0.0",
         "1.0",
         "0.0",
         "0.0",
         "0.0"
        ],
        [
         "Categoria_ingresos_State servant",
         "0.0",
         "0.0",
         "0.0",
         "0.0",
         "0.0",
         "1.0"
        ],
        [
         "Categoria_ingresos_Student",
         "0.0",
         "0.0",
         "0.0",
         "0.0",
         "0.0",
         "0.0"
        ],
        [
         "Categoria_ingresos_Working",
         "1.0",
         "0.0",
         "0.0",
         "1.0",
         "1.0",
         "0.0"
        ],
        [
         "Estado_civil_Married",
         "0.0",
         "0.772",
         "0.691",
         "0.998",
         "1.0",
         "0.815"
        ],
        [
         "Estado_civil_Separated",
         "0.287",
         "0.065",
         "0.063",
         "0.0",
         "0.0",
         "0.049"
        ],
        [
         "Estado_civil_Single / not married",
         "0.607",
         "0.141",
         "0.097",
         "0.0",
         "0.0",
         "0.111"
        ],
        [
         "Estado_civil_Widow",
         "0.106",
         "0.022",
         "0.148",
         "0.002",
         "0.0",
         "0.025"
        ]
       ],
       "shape": {
        "columns": 6,
        "rows": 14
       }
      },
      "text/html": [
       "<div>\n",
       "<style scoped>\n",
       "    .dataframe tbody tr th:only-of-type {\n",
       "        vertical-align: middle;\n",
       "    }\n",
       "\n",
       "    .dataframe tbody tr th {\n",
       "        vertical-align: top;\n",
       "    }\n",
       "\n",
       "    .dataframe thead th {\n",
       "        text-align: right;\n",
       "    }\n",
       "</style>\n",
       "<table border=\"1\" class=\"dataframe\">\n",
       "  <thead>\n",
       "    <tr style=\"text-align: right;\">\n",
       "      <th></th>\n",
       "      <th>Cluster_1</th>\n",
       "      <th>Cluster_2</th>\n",
       "      <th>Cluster_3</th>\n",
       "      <th>Cluster_4</th>\n",
       "      <th>Cluster_5</th>\n",
       "      <th>Cluster_6</th>\n",
       "    </tr>\n",
       "  </thead>\n",
       "  <tbody>\n",
       "    <tr>\n",
       "      <th>Genero</th>\n",
       "      <td>0.308</td>\n",
       "      <td>0.365</td>\n",
       "      <td>0.152</td>\n",
       "      <td>0.732</td>\n",
       "      <td>0.096</td>\n",
       "      <td>0.283</td>\n",
       "    </tr>\n",
       "    <tr>\n",
       "      <th>Tiene_auto</th>\n",
       "      <td>0.288</td>\n",
       "      <td>0.429</td>\n",
       "      <td>0.194</td>\n",
       "      <td>0.808</td>\n",
       "      <td>0.105</td>\n",
       "      <td>0.379</td>\n",
       "    </tr>\n",
       "    <tr>\n",
       "      <th>Tiene_propiedad</th>\n",
       "      <td>0.645</td>\n",
       "      <td>0.695</td>\n",
       "      <td>0.752</td>\n",
       "      <td>0.822</td>\n",
       "      <td>0.536</td>\n",
       "      <td>0.643</td>\n",
       "    </tr>\n",
       "    <tr>\n",
       "      <th>Num_hijos</th>\n",
       "      <td>0.279</td>\n",
       "      <td>0.468</td>\n",
       "      <td>0.039</td>\n",
       "      <td>0.647</td>\n",
       "      <td>0.540</td>\n",
       "      <td>0.536</td>\n",
       "    </tr>\n",
       "    <tr>\n",
       "      <th>Ingreso_anual</th>\n",
       "      <td>184868.552</td>\n",
       "      <td>222500.878</td>\n",
       "      <td>153028.448</td>\n",
       "      <td>201527.068</td>\n",
       "      <td>162644.490</td>\n",
       "      <td>200388.279</td>\n",
       "    </tr>\n",
       "    <tr>\n",
       "      <th>Categoria_ingresos_Commercial associate</th>\n",
       "      <td>0.000</td>\n",
       "      <td>1.000</td>\n",
       "      <td>0.000</td>\n",
       "      <td>0.000</td>\n",
       "      <td>0.000</td>\n",
       "      <td>0.000</td>\n",
       "    </tr>\n",
       "    <tr>\n",
       "      <th>Categoria_ingresos_Pensioner</th>\n",
       "      <td>0.000</td>\n",
       "      <td>0.000</td>\n",
       "      <td>1.000</td>\n",
       "      <td>0.000</td>\n",
       "      <td>0.000</td>\n",
       "      <td>0.000</td>\n",
       "    </tr>\n",
       "    <tr>\n",
       "      <th>Categoria_ingresos_State servant</th>\n",
       "      <td>0.000</td>\n",
       "      <td>0.000</td>\n",
       "      <td>0.000</td>\n",
       "      <td>0.000</td>\n",
       "      <td>0.000</td>\n",
       "      <td>1.000</td>\n",
       "    </tr>\n",
       "    <tr>\n",
       "      <th>Categoria_ingresos_Student</th>\n",
       "      <td>0.000</td>\n",
       "      <td>0.000</td>\n",
       "      <td>0.000</td>\n",
       "      <td>0.000</td>\n",
       "      <td>0.000</td>\n",
       "      <td>0.000</td>\n",
       "    </tr>\n",
       "    <tr>\n",
       "      <th>Categoria_ingresos_Working</th>\n",
       "      <td>1.000</td>\n",
       "      <td>0.000</td>\n",
       "      <td>0.000</td>\n",
       "      <td>1.000</td>\n",
       "      <td>1.000</td>\n",
       "      <td>0.000</td>\n",
       "    </tr>\n",
       "    <tr>\n",
       "      <th>Estado_civil_Married</th>\n",
       "      <td>0.000</td>\n",
       "      <td>0.772</td>\n",
       "      <td>0.691</td>\n",
       "      <td>0.998</td>\n",
       "      <td>1.000</td>\n",
       "      <td>0.815</td>\n",
       "    </tr>\n",
       "    <tr>\n",
       "      <th>Estado_civil_Separated</th>\n",
       "      <td>0.287</td>\n",
       "      <td>0.065</td>\n",
       "      <td>0.063</td>\n",
       "      <td>0.000</td>\n",
       "      <td>0.000</td>\n",
       "      <td>0.049</td>\n",
       "    </tr>\n",
       "    <tr>\n",
       "      <th>Estado_civil_Single / not married</th>\n",
       "      <td>0.607</td>\n",
       "      <td>0.141</td>\n",
       "      <td>0.097</td>\n",
       "      <td>0.000</td>\n",
       "      <td>0.000</td>\n",
       "      <td>0.111</td>\n",
       "    </tr>\n",
       "    <tr>\n",
       "      <th>Estado_civil_Widow</th>\n",
       "      <td>0.106</td>\n",
       "      <td>0.022</td>\n",
       "      <td>0.148</td>\n",
       "      <td>0.002</td>\n",
       "      <td>0.000</td>\n",
       "      <td>0.025</td>\n",
       "    </tr>\n",
       "  </tbody>\n",
       "</table>\n",
       "</div>"
      ],
      "text/plain": [
       "                                          Cluster_1   Cluster_2   Cluster_3  \\\n",
       "Genero                                        0.308       0.365       0.152   \n",
       "Tiene_auto                                    0.288       0.429       0.194   \n",
       "Tiene_propiedad                               0.645       0.695       0.752   \n",
       "Num_hijos                                     0.279       0.468       0.039   \n",
       "Ingreso_anual                            184868.552  222500.878  153028.448   \n",
       "Categoria_ingresos_Commercial associate       0.000       1.000       0.000   \n",
       "Categoria_ingresos_Pensioner                  0.000       0.000       1.000   \n",
       "Categoria_ingresos_State servant              0.000       0.000       0.000   \n",
       "Categoria_ingresos_Student                    0.000       0.000       0.000   \n",
       "Categoria_ingresos_Working                    1.000       0.000       0.000   \n",
       "Estado_civil_Married                          0.000       0.772       0.691   \n",
       "Estado_civil_Separated                        0.287       0.065       0.063   \n",
       "Estado_civil_Single / not married             0.607       0.141       0.097   \n",
       "Estado_civil_Widow                            0.106       0.022       0.148   \n",
       "\n",
       "                                          Cluster_4   Cluster_5   Cluster_6  \n",
       "Genero                                        0.732       0.096       0.283  \n",
       "Tiene_auto                                    0.808       0.105       0.379  \n",
       "Tiene_propiedad                               0.822       0.536       0.643  \n",
       "Num_hijos                                     0.647       0.540       0.536  \n",
       "Ingreso_anual                            201527.068  162644.490  200388.279  \n",
       "Categoria_ingresos_Commercial associate       0.000       0.000       0.000  \n",
       "Categoria_ingresos_Pensioner                  0.000       0.000       0.000  \n",
       "Categoria_ingresos_State servant              0.000       0.000       1.000  \n",
       "Categoria_ingresos_Student                    0.000       0.000       0.000  \n",
       "Categoria_ingresos_Working                    1.000       1.000       0.000  \n",
       "Estado_civil_Married                          0.998       1.000       0.815  \n",
       "Estado_civil_Separated                        0.000       0.000       0.049  \n",
       "Estado_civil_Single / not married             0.000       0.000       0.111  \n",
       "Estado_civil_Widow                            0.002       0.000       0.025  "
      ]
     },
     "execution_count": 98,
     "metadata": {},
     "output_type": "execute_result"
    }
   ],
   "source": [
    "names = []\n",
    "for i in range(num_clusters):\n",
    "    names.append('Cluster_{}' .format(i+1))\n",
    "#organizar en un dataframe\n",
    "\n",
    "df_centroides = pd.DataFrame(df_desnorm.transpose(), columns=names).abs().round(3)\n",
    "columns_names = pd.Series(df_norm.columns.values)\n",
    "df_centroides.set_index([columns_names], inplace=True)\n",
    "df_centroides"
   ]
  },
  {
   "cell_type": "code",
   "execution_count": null,
   "id": "fe255ab2",
   "metadata": {},
   "outputs": [],
   "source": []
  }
 ],
 "metadata": {
  "kernelspec": {
   "display_name": "Python 3",
   "language": "python",
   "name": "python3"
  },
  "language_info": {
   "codemirror_mode": {
    "name": "ipython",
    "version": 3
   },
   "file_extension": ".py",
   "mimetype": "text/x-python",
   "name": "python",
   "nbconvert_exporter": "python",
   "pygments_lexer": "ipython3",
   "version": "3.11.9"
  }
 },
 "nbformat": 4,
 "nbformat_minor": 5
}
